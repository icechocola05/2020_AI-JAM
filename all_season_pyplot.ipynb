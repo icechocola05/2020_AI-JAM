{
 "cells": [
  {
   "cell_type": "code",
   "execution_count": 1,
   "metadata": {},
   "outputs": [],
   "source": [
    "import pandas as pd\n",
    "import numpy as np"
   ]
  },
  {
   "cell_type": "code",
   "execution_count": 2,
   "metadata": {},
   "outputs": [],
   "source": [
    "#한글파일 읽어오면 utf-8 관련 에러발생\n",
    "#encoding= 'ISO-8859-1' 추가하면 에러는 피할 수 있지만 한글은 여전히 깨짐\n",
    "#engine = 'python' 추가하면 에러도 피하고 한글도 안 깨짐\n",
    "\n",
    "spring = pd.read_csv('data/all season.csv', engine = 'python')"
   ]
  },
  {
   "cell_type": "code",
   "execution_count": 3,
   "metadata": {},
   "outputs": [
    {
     "data": {
      "text/html": [
       "<div>\n",
       "<style scoped>\n",
       "    .dataframe tbody tr th:only-of-type {\n",
       "        vertical-align: middle;\n",
       "    }\n",
       "\n",
       "    .dataframe tbody tr th {\n",
       "        vertical-align: top;\n",
       "    }\n",
       "\n",
       "    .dataframe thead th {\n",
       "        text-align: right;\n",
       "    }\n",
       "</style>\n",
       "<table border=\"1\" class=\"dataframe\">\n",
       "  <thead>\n",
       "    <tr style=\"text-align: right;\">\n",
       "      <th></th>\n",
       "      <th>도서명</th>\n",
       "      <th>부제목</th>\n",
       "      <th>출간일</th>\n",
       "      <th>분야</th>\n",
       "      <th>정가</th>\n",
       "      <th>평점</th>\n",
       "      <th>쪽수</th>\n",
       "      <th>eBook 여부</th>\n",
       "      <th>제목 길이</th>\n",
       "      <th>순위</th>\n",
       "      <th>베스트셀러 여부</th>\n",
       "    </tr>\n",
       "  </thead>\n",
       "  <tbody>\n",
       "    <tr>\n",
       "      <th>0</th>\n",
       "      <td>언어의 온도(3주년 150만부 기념 에디션)</td>\n",
       "      <td>말과 글에는 나름의 따뜻함과 차가움이 있다</td>\n",
       "      <td>20160819.0</td>\n",
       "      <td>시/에세이</td>\n",
       "      <td>13800.0</td>\n",
       "      <td>8.8</td>\n",
       "      <td>308</td>\n",
       "      <td>1</td>\n",
       "      <td>6</td>\n",
       "      <td>1</td>\n",
       "      <td>1</td>\n",
       "    </tr>\n",
       "    <tr>\n",
       "      <th>1</th>\n",
       "      <td>잠. 1(양장본 HardCover)</td>\n",
       "      <td>베르나르 베르베르 장편소설</td>\n",
       "      <td>20170608.0</td>\n",
       "      <td>소설</td>\n",
       "      <td>13800.0</td>\n",
       "      <td>9.3</td>\n",
       "      <td>336</td>\n",
       "      <td>1</td>\n",
       "      <td>4</td>\n",
       "      <td>2</td>\n",
       "      <td>1</td>\n",
       "    </tr>\n",
       "    <tr>\n",
       "      <th>2</th>\n",
       "      <td>82년생 김지영(오늘의 젊은 작가 13)(양장본 HardCover)</td>\n",
       "      <td>조남주 장편소설</td>\n",
       "      <td>20161014.0</td>\n",
       "      <td>소설</td>\n",
       "      <td>13000.0</td>\n",
       "      <td>8.9</td>\n",
       "      <td>192</td>\n",
       "      <td>1</td>\n",
       "      <td>8</td>\n",
       "      <td>3</td>\n",
       "      <td>1</td>\n",
       "    </tr>\n",
       "    <tr>\n",
       "      <th>3</th>\n",
       "      <td>말의 품격</td>\n",
       "      <td>말과 사람과 품격에 대한 생각들</td>\n",
       "      <td>20190318.0</td>\n",
       "      <td>인문</td>\n",
       "      <td>14500.0</td>\n",
       "      <td>8.7</td>\n",
       "      <td>232</td>\n",
       "      <td>1</td>\n",
       "      <td>5</td>\n",
       "      <td>4</td>\n",
       "      <td>1</td>\n",
       "    </tr>\n",
       "    <tr>\n",
       "      <th>4</th>\n",
       "      <td>오직 두 사람</td>\n",
       "      <td>김영하 소설</td>\n",
       "      <td>20170525.0</td>\n",
       "      <td>소설</td>\n",
       "      <td>13000.0</td>\n",
       "      <td>9.2</td>\n",
       "      <td>272</td>\n",
       "      <td>1</td>\n",
       "      <td>7</td>\n",
       "      <td>5</td>\n",
       "      <td>1</td>\n",
       "    </tr>\n",
       "  </tbody>\n",
       "</table>\n",
       "</div>"
      ],
      "text/plain": [
       "                                     도서명                      부제목         출간일  \\\n",
       "0               언어의 온도(3주년 150만부 기념 에디션)  말과 글에는 나름의 따뜻함과 차가움이 있다  20160819.0   \n",
       "1                    잠. 1(양장본 HardCover)           베르나르 베르베르 장편소설  20170608.0   \n",
       "2  82년생 김지영(오늘의 젊은 작가 13)(양장본 HardCover)                 조남주 장편소설  20161014.0   \n",
       "3                                  말의 품격        말과 사람과 품격에 대한 생각들  20190318.0   \n",
       "4                                오직 두 사람                   김영하 소설  20170525.0   \n",
       "\n",
       "      분야       정가   평점   쪽수  eBook 여부  제목 길이  순위  베스트셀러 여부  \n",
       "0  시/에세이  13800.0  8.8  308         1      6   1         1  \n",
       "1     소설  13800.0  9.3  336         1      4   2         1  \n",
       "2     소설  13000.0  8.9  192         1      8   3         1  \n",
       "3     인문  14500.0  8.7  232         1      5   4         1  \n",
       "4     소설  13000.0  9.2  272         1      7   5         1  "
      ]
     },
     "execution_count": 3,
     "metadata": {},
     "output_type": "execute_result"
    }
   ],
   "source": [
    "spring.head()"
   ]
  },
  {
   "cell_type": "code",
   "execution_count": 4,
   "metadata": {},
   "outputs": [],
   "source": [
    "spring.loc[spring['분야'] == '소설', '분야'] = 1\n",
    "spring.loc[spring['분야'] == '시/에세이', '분야'] = 2\n",
    "spring.loc[spring['분야'] == '인문', '분야'] = 3\n",
    "spring.loc[spring['분야'] == '가정/육아', '분야'] = 4\n",
    "spring.loc[spring['분야'] == '요리', '분야'] = 5\n",
    "spring.loc[spring['분야'] == '건강', '분야'] = 6\n",
    "spring.loc[spring['분야'] == '취미/실용/스포츠', '분야'] = 7\n",
    "spring.loc[spring['분야'] == '경제/경영', '분야'] = 8\n",
    "spring.loc[spring['분야'] == '자기계발', '분야'] = 9\n",
    "spring.loc[spring['분야'] == '정치/사회', '분야'] = 10\n",
    "spring.loc[spring['분야'] == '역사/문화', '분야'] = 11\n",
    "spring.loc[spring['분야'] == '종교', '분야'] = 11\n",
    "spring.loc[spring['분야'] == '예술/대중문화', '분야'] = 11\n",
    "spring.loc[spring['분야'] == '한국소개도서', '분야'] = 11\n",
    "spring.loc[spring['분야'] == '중/고등참고서', '분야'] = 12\n",
    "spring.loc[spring['분야'] == '대학교재', '분야'] = 12\n",
    "spring.loc[spring['분야'] == '기술/공학', '분야'] = 13\n",
    "spring.loc[spring['분야'] == '컴퓨터/IT', '분야'] = 13\n",
    "spring.loc[spring['분야'] == '외국어', '분야'] = 14\n",
    "spring.loc[spring['분야'] == '여행', '분야'] = 14\n",
    "spring.loc[spring['분야'] == '과학', '분야'] = 15\n",
    "spring.loc[spring['분야'] == '취업/수험서', '분야'] = 16\n",
    "spring.loc[spring['분야'] == '자격증/수험서작가', '분야'] = 16\n",
    "spring.loc[spring['분야'] == '잡지', '분야'] = 17\n",
    "spring.loc[spring['분야'] == '만화', '분야'] = 17\n",
    "spring.loc[spring['분야'] == ':K컬렉션', '분야'] = 17\n",
    "spring.loc[spring['분야'] == '청소년', '분야'] = 18\n",
    "spring.loc[spring['분야'] == '초등참고서', '분야'] = 19\n",
    "spring.loc[spring['분야'] == '어린이(초등)', '분야'] = 19\n",
    "spring.loc[spring['분야'] == '어린이전집', '분야'] = 19\n",
    "spring.loc[spring['분야'] == '어린이영어', '분야'] = 19\n",
    "spring.loc[spring['분야'] == '유아(0~7세)', '분야'] = 20\n",
    "spring.loc[spring['분야'].isnull(), '분야'] = 0"
   ]
  },
  {
   "cell_type": "code",
   "execution_count": 5,
   "metadata": {},
   "outputs": [],
   "source": [
    "spring.loc[spring['쪽수'] == '준비중', '쪽수'] = 371\n",
    "spring.loc[spring['쪽수'] == '210 * 270 mm  판형알림', '쪽수'] = 371\n",
    "spring.loc[spring['쪽수'] == '178 * 238 * 18 mm /357g  판형알림', '쪽수'] = 371"
   ]
  },
  {
   "cell_type": "code",
   "execution_count": 6,
   "metadata": {},
   "outputs": [],
   "source": [
    "spring.loc[spring['부제목'].notnull(), '부제목'] = 1\n",
    "spring.loc[spring['부제목'].isnull(), '부제목'] = 0"
   ]
  },
  {
   "cell_type": "code",
   "execution_count": 7,
   "metadata": {},
   "outputs": [
    {
     "data": {
      "text/plain": [
       "도서명          0\n",
       "부제목          0\n",
       "출간일         17\n",
       "분야           0\n",
       "정가          32\n",
       "평점           2\n",
       "쪽수           0\n",
       "eBook 여부     0\n",
       "제목 길이        0\n",
       "순위           0\n",
       "베스트셀러 여부     0\n",
       "dtype: int64"
      ]
     },
     "execution_count": 7,
     "metadata": {},
     "output_type": "execute_result"
    }
   ],
   "source": [
    "spring.isnull().sum()"
   ]
  },
  {
   "cell_type": "code",
   "execution_count": 8,
   "metadata": {},
   "outputs": [],
   "source": [
    "spring['정가'] = spring['정가'].fillna(spring['정가'].mean())\n",
    "spring.loc[spring['분야'].isnull(), '분야'] = 0"
   ]
  },
  {
   "cell_type": "code",
   "execution_count": 9,
   "metadata": {},
   "outputs": [],
   "source": [
    "# spring['쪽수'] = int(spring['쪽수'])\n",
    "spring['쪽수'] = spring['쪽수'].astype(int)\n",
    "spring['분야'] = spring['분야'].astype(int)"
   ]
  },
  {
   "cell_type": "code",
   "execution_count": 10,
   "metadata": {
    "scrolled": true
   },
   "outputs": [
    {
     "name": "stdout",
     "output_type": "stream",
     "text": [
      "int32\n",
      "int32\n",
      "int64\n",
      "float64\n"
     ]
    }
   ],
   "source": [
    "print(spring['쪽수'].dtype)\n",
    "print(spring['분야'].dtype)\n",
    "print(spring['제목 길이'].dtype)\n",
    "print(spring['정가'].dtype)"
   ]
  },
  {
   "cell_type": "code",
   "execution_count": 11,
   "metadata": {},
   "outputs": [],
   "source": [
    "# 각 분야 별 합계 구하기\n",
    "category = ['기타', '소설', '시/에세이', '인문', '가정/육아', '요리', '건강', '취미/실용/스포츠', '경제/경영', '자기계발', '정치/사회', '역사/문화, 종교, 예술/대중문화, 한국소개도서',\n",
    "            '기술/공학, 컴퓨터/IT', '외국어, 여행', '과학', '취업/수험서',\n",
    "        '잡지, 만화, :K컬렉션', '초등참고서, 어린이(초등), 어린이전집, 어린이영어', '유아(0~7세)']"
   ]
  },
  {
   "cell_type": "code",
   "execution_count": 12,
   "metadata": {
    "scrolled": true
   },
   "outputs": [
    {
     "data": {
      "text/plain": [
       "0       38\n",
       "1     2034\n",
       "2     1709\n",
       "3     1808\n",
       "4      335\n",
       "5      181\n",
       "6      230\n",
       "7      248\n",
       "8     1532\n",
       "9     1137\n",
       "10     321\n",
       "11     884\n",
       "12       1\n",
       "13     679\n",
       "14     771\n",
       "15     328\n",
       "16     798\n",
       "17     544\n",
       "19     950\n",
       "20     460\n",
       "Name: 분야, dtype: int64"
      ]
     },
     "execution_count": 12,
     "metadata": {},
     "output_type": "execute_result"
    }
   ],
   "source": [
    "catValue = spring['분야'].value_counts().sort_index()\n",
    "catValue"
   ]
  },
  {
   "cell_type": "code",
   "execution_count": 13,
   "metadata": {},
   "outputs": [
    {
     "name": "stdout",
     "output_type": "stream",
     "text": [
      "0       38\n",
      "1     2034\n",
      "2     1709\n",
      "3     1808\n",
      "4      335\n",
      "5      181\n",
      "6      230\n",
      "7      248\n",
      "8     1532\n",
      "9     1137\n",
      "10     321\n",
      "11     884\n",
      "12       1\n",
      "13     679\n",
      "14     771\n",
      "15     328\n",
      "16     798\n",
      "17     544\n",
      "19     950\n",
      "20     460\n",
      "Name: 분야, dtype: int64\n",
      "['기타', '소설', '시/에세이', '인문', '가정/육아', '요리', '건강', '취미/실용/스포츠', '경제/경영', '자기계발', '정치/사회', '역사/문화, 종교, 예술/대중문화, 한국소개도서', '기술/공학, 컴퓨터/IT', '외국어, 여행', '과학', '취업/수험서', '잡지, 만화, :K컬렉션', '초등참고서, 어린이(초등), 어린이전집, 어린이영어', '유아(0~7세)']\n"
     ]
    }
   ],
   "source": [
    "print(catValue)\n",
    "print(category)"
   ]
  },
  {
   "cell_type": "code",
   "execution_count": 14,
   "metadata": {},
   "outputs": [
    {
     "name": "stdout",
     "output_type": "stream",
     "text": [
      "20\n",
      "19\n"
     ]
    }
   ],
   "source": [
    "data_l = []\n",
    "for i in catValue:\n",
    "    data_l.append(i)\n",
    "    \n",
    "print(len(data_l))\n",
    "print(len(category))"
   ]
  },
  {
   "cell_type": "code",
   "execution_count": 15,
   "metadata": {},
   "outputs": [
    {
     "data": {
      "text/html": [
       "<div>\n",
       "<style scoped>\n",
       "    .dataframe tbody tr th:only-of-type {\n",
       "        vertical-align: middle;\n",
       "    }\n",
       "\n",
       "    .dataframe tbody tr th {\n",
       "        vertical-align: top;\n",
       "    }\n",
       "\n",
       "    .dataframe thead th {\n",
       "        text-align: right;\n",
       "    }\n",
       "</style>\n",
       "<table border=\"1\" class=\"dataframe\">\n",
       "  <thead>\n",
       "    <tr style=\"text-align: right;\">\n",
       "      <th></th>\n",
       "      <th>도서명</th>\n",
       "      <th>부제목</th>\n",
       "      <th>출간일</th>\n",
       "      <th>분야</th>\n",
       "      <th>정가</th>\n",
       "      <th>평점</th>\n",
       "      <th>쪽수</th>\n",
       "      <th>eBook 여부</th>\n",
       "      <th>제목 길이</th>\n",
       "      <th>순위</th>\n",
       "      <th>베스트셀러 여부</th>\n",
       "    </tr>\n",
       "  </thead>\n",
       "  <tbody>\n",
       "    <tr>\n",
       "      <th>0</th>\n",
       "      <td>언어의 온도(3주년 150만부 기념 에디션)</td>\n",
       "      <td>1</td>\n",
       "      <td>20160819.0</td>\n",
       "      <td>2</td>\n",
       "      <td>13800.0</td>\n",
       "      <td>8.8</td>\n",
       "      <td>308</td>\n",
       "      <td>1</td>\n",
       "      <td>6</td>\n",
       "      <td>1</td>\n",
       "      <td>1</td>\n",
       "    </tr>\n",
       "    <tr>\n",
       "      <th>1</th>\n",
       "      <td>잠. 1(양장본 HardCover)</td>\n",
       "      <td>1</td>\n",
       "      <td>20170608.0</td>\n",
       "      <td>1</td>\n",
       "      <td>13800.0</td>\n",
       "      <td>9.3</td>\n",
       "      <td>336</td>\n",
       "      <td>1</td>\n",
       "      <td>4</td>\n",
       "      <td>2</td>\n",
       "      <td>1</td>\n",
       "    </tr>\n",
       "    <tr>\n",
       "      <th>2</th>\n",
       "      <td>82년생 김지영(오늘의 젊은 작가 13)(양장본 HardCover)</td>\n",
       "      <td>1</td>\n",
       "      <td>20161014.0</td>\n",
       "      <td>1</td>\n",
       "      <td>13000.0</td>\n",
       "      <td>8.9</td>\n",
       "      <td>192</td>\n",
       "      <td>1</td>\n",
       "      <td>8</td>\n",
       "      <td>3</td>\n",
       "      <td>1</td>\n",
       "    </tr>\n",
       "    <tr>\n",
       "      <th>3</th>\n",
       "      <td>말의 품격</td>\n",
       "      <td>1</td>\n",
       "      <td>20190318.0</td>\n",
       "      <td>3</td>\n",
       "      <td>14500.0</td>\n",
       "      <td>8.7</td>\n",
       "      <td>232</td>\n",
       "      <td>1</td>\n",
       "      <td>5</td>\n",
       "      <td>4</td>\n",
       "      <td>1</td>\n",
       "    </tr>\n",
       "    <tr>\n",
       "      <th>4</th>\n",
       "      <td>오직 두 사람</td>\n",
       "      <td>1</td>\n",
       "      <td>20170525.0</td>\n",
       "      <td>1</td>\n",
       "      <td>13000.0</td>\n",
       "      <td>9.2</td>\n",
       "      <td>272</td>\n",
       "      <td>1</td>\n",
       "      <td>7</td>\n",
       "      <td>5</td>\n",
       "      <td>1</td>\n",
       "    </tr>\n",
       "  </tbody>\n",
       "</table>\n",
       "</div>"
      ],
      "text/plain": [
       "                                     도서명 부제목         출간일  분야       정가   평점  \\\n",
       "0               언어의 온도(3주년 150만부 기념 에디션)   1  20160819.0   2  13800.0  8.8   \n",
       "1                    잠. 1(양장본 HardCover)   1  20170608.0   1  13800.0  9.3   \n",
       "2  82년생 김지영(오늘의 젊은 작가 13)(양장본 HardCover)   1  20161014.0   1  13000.0  8.9   \n",
       "3                                  말의 품격   1  20190318.0   3  14500.0  8.7   \n",
       "4                                오직 두 사람   1  20170525.0   1  13000.0  9.2   \n",
       "\n",
       "    쪽수  eBook 여부  제목 길이  순위  베스트셀러 여부  \n",
       "0  308         1      6   1         1  \n",
       "1  336         1      4   2         1  \n",
       "2  192         1      8   3         1  \n",
       "3  232         1      5   4         1  \n",
       "4  272         1      7   5         1  "
      ]
     },
     "execution_count": 15,
     "metadata": {},
     "output_type": "execute_result"
    }
   ],
   "source": [
    "spring.head()"
   ]
  },
  {
   "cell_type": "code",
   "execution_count": 16,
   "metadata": {
    "scrolled": true
   },
   "outputs": [
    {
     "data": {
      "text/html": [
       "<div>\n",
       "<style scoped>\n",
       "    .dataframe tbody tr th:only-of-type {\n",
       "        vertical-align: middle;\n",
       "    }\n",
       "\n",
       "    .dataframe tbody tr th {\n",
       "        vertical-align: top;\n",
       "    }\n",
       "\n",
       "    .dataframe thead th {\n",
       "        text-align: right;\n",
       "    }\n",
       "</style>\n",
       "<table border=\"1\" class=\"dataframe\">\n",
       "  <thead>\n",
       "    <tr style=\"text-align: right;\">\n",
       "      <th></th>\n",
       "      <th>도서명</th>\n",
       "      <th>부제목</th>\n",
       "      <th>출간일</th>\n",
       "      <th>분야</th>\n",
       "      <th>정가</th>\n",
       "      <th>평점</th>\n",
       "      <th>쪽수</th>\n",
       "      <th>eBook 여부</th>\n",
       "      <th>제목 길이</th>\n",
       "      <th>순위</th>\n",
       "      <th>베스트셀러 여부</th>\n",
       "    </tr>\n",
       "  </thead>\n",
       "  <tbody>\n",
       "    <tr>\n",
       "      <th>14983</th>\n",
       "      <td>다크 타워. 6: 수재나의 노래</td>\n",
       "      <td>0</td>\n",
       "      <td>20191226.0</td>\n",
       "      <td>1</td>\n",
       "      <td>18000.0</td>\n",
       "      <td>8.6</td>\n",
       "      <td>644</td>\n",
       "      <td>1</td>\n",
       "      <td>17</td>\n",
       "      <td>0</td>\n",
       "      <td>0</td>\n",
       "    </tr>\n",
       "    <tr>\n",
       "      <th>14984</th>\n",
       "      <td>논점민법강의: 가족법(6판)</td>\n",
       "      <td>0</td>\n",
       "      <td>20200101.0</td>\n",
       "      <td>16</td>\n",
       "      <td>20000.0</td>\n",
       "      <td>9.3</td>\n",
       "      <td>263</td>\n",
       "      <td>0</td>\n",
       "      <td>11</td>\n",
       "      <td>0</td>\n",
       "      <td>0</td>\n",
       "    </tr>\n",
       "    <tr>\n",
       "      <th>14985</th>\n",
       "      <td>하이스쿨 D×D. 11(완결)</td>\n",
       "      <td>0</td>\n",
       "      <td>20200101.0</td>\n",
       "      <td>17</td>\n",
       "      <td>5500.0</td>\n",
       "      <td>10.0</td>\n",
       "      <td>160</td>\n",
       "      <td>1</td>\n",
       "      <td>12</td>\n",
       "      <td>0</td>\n",
       "      <td>0</td>\n",
       "    </tr>\n",
       "    <tr>\n",
       "      <th>14986</th>\n",
       "      <td>리키, 너도 구를 수 있어!(양장본 HardCover)</td>\n",
       "      <td>0</td>\n",
       "      <td>20191122.0</td>\n",
       "      <td>20</td>\n",
       "      <td>12000.0</td>\n",
       "      <td>0.0</td>\n",
       "      <td>36</td>\n",
       "      <td>0</td>\n",
       "      <td>15</td>\n",
       "      <td>0</td>\n",
       "      <td>0</td>\n",
       "    </tr>\n",
       "    <tr>\n",
       "      <th>14987</th>\n",
       "      <td>라임튜브와 함께하는 우리 아이 유튜브 스타 만들기</td>\n",
       "      <td>1</td>\n",
       "      <td>20200106.0</td>\n",
       "      <td>13</td>\n",
       "      <td>15000.0</td>\n",
       "      <td>10.0</td>\n",
       "      <td>224</td>\n",
       "      <td>1</td>\n",
       "      <td>27</td>\n",
       "      <td>0</td>\n",
       "      <td>0</td>\n",
       "    </tr>\n",
       "  </tbody>\n",
       "</table>\n",
       "</div>"
      ],
      "text/plain": [
       "                                  도서명 부제목         출간일  분야       정가    평점   쪽수  \\\n",
       "14983               다크 타워. 6: 수재나의 노래   0  20191226.0   1  18000.0   8.6  644   \n",
       "14984                 논점민법강의: 가족법(6판)   0  20200101.0  16  20000.0   9.3  263   \n",
       "14985                하이스쿨 D×D. 11(완결)   0  20200101.0  17   5500.0  10.0  160   \n",
       "14986  리키, 너도 구를 수 있어!(양장본 HardCover)   0  20191122.0  20  12000.0   0.0   36   \n",
       "14987     라임튜브와 함께하는 우리 아이 유튜브 스타 만들기   1  20200106.0  13  15000.0  10.0  224   \n",
       "\n",
       "       eBook 여부  제목 길이  순위  베스트셀러 여부  \n",
       "14983         1     17   0         0  \n",
       "14984         0     11   0         0  \n",
       "14985         1     12   0         0  \n",
       "14986         0     15   0         0  \n",
       "14987         1     27   0         0  "
      ]
     },
     "execution_count": 16,
     "metadata": {},
     "output_type": "execute_result"
    }
   ],
   "source": [
    "spring.tail()"
   ]
  },
  {
   "cell_type": "code",
   "execution_count": 17,
   "metadata": {},
   "outputs": [],
   "source": [
    "spring = spring[['부제목', '분야', '정가', '쪽수', 'eBook 여부', '제목 길이', '베스트셀러 여부']]"
   ]
  },
  {
   "cell_type": "code",
   "execution_count": 18,
   "metadata": {},
   "outputs": [
    {
     "data": {
      "text/html": [
       "<div>\n",
       "<style scoped>\n",
       "    .dataframe tbody tr th:only-of-type {\n",
       "        vertical-align: middle;\n",
       "    }\n",
       "\n",
       "    .dataframe tbody tr th {\n",
       "        vertical-align: top;\n",
       "    }\n",
       "\n",
       "    .dataframe thead th {\n",
       "        text-align: right;\n",
       "    }\n",
       "</style>\n",
       "<table border=\"1\" class=\"dataframe\">\n",
       "  <thead>\n",
       "    <tr style=\"text-align: right;\">\n",
       "      <th></th>\n",
       "      <th>부제목</th>\n",
       "      <th>분야</th>\n",
       "      <th>정가</th>\n",
       "      <th>쪽수</th>\n",
       "      <th>eBook 여부</th>\n",
       "      <th>제목 길이</th>\n",
       "      <th>베스트셀러 여부</th>\n",
       "    </tr>\n",
       "  </thead>\n",
       "  <tbody>\n",
       "    <tr>\n",
       "      <th>0</th>\n",
       "      <td>1</td>\n",
       "      <td>2</td>\n",
       "      <td>13800.0</td>\n",
       "      <td>308</td>\n",
       "      <td>1</td>\n",
       "      <td>6</td>\n",
       "      <td>1</td>\n",
       "    </tr>\n",
       "    <tr>\n",
       "      <th>1</th>\n",
       "      <td>1</td>\n",
       "      <td>1</td>\n",
       "      <td>13800.0</td>\n",
       "      <td>336</td>\n",
       "      <td>1</td>\n",
       "      <td>4</td>\n",
       "      <td>1</td>\n",
       "    </tr>\n",
       "    <tr>\n",
       "      <th>2</th>\n",
       "      <td>1</td>\n",
       "      <td>1</td>\n",
       "      <td>13000.0</td>\n",
       "      <td>192</td>\n",
       "      <td>1</td>\n",
       "      <td>8</td>\n",
       "      <td>1</td>\n",
       "    </tr>\n",
       "    <tr>\n",
       "      <th>3</th>\n",
       "      <td>1</td>\n",
       "      <td>3</td>\n",
       "      <td>14500.0</td>\n",
       "      <td>232</td>\n",
       "      <td>1</td>\n",
       "      <td>5</td>\n",
       "      <td>1</td>\n",
       "    </tr>\n",
       "    <tr>\n",
       "      <th>4</th>\n",
       "      <td>1</td>\n",
       "      <td>1</td>\n",
       "      <td>13000.0</td>\n",
       "      <td>272</td>\n",
       "      <td>1</td>\n",
       "      <td>7</td>\n",
       "      <td>1</td>\n",
       "    </tr>\n",
       "  </tbody>\n",
       "</table>\n",
       "</div>"
      ],
      "text/plain": [
       "  부제목  분야       정가   쪽수  eBook 여부  제목 길이  베스트셀러 여부\n",
       "0   1   2  13800.0  308         1      6         1\n",
       "1   1   1  13800.0  336         1      4         1\n",
       "2   1   1  13000.0  192         1      8         1\n",
       "3   1   3  14500.0  232         1      5         1\n",
       "4   1   1  13000.0  272         1      7         1"
      ]
     },
     "execution_count": 18,
     "metadata": {},
     "output_type": "execute_result"
    }
   ],
   "source": [
    "spring.head()"
   ]
  },
  {
   "cell_type": "code",
   "execution_count": 19,
   "metadata": {},
   "outputs": [
    {
     "data": {
      "text/plain": [
       "부제목             0.671404\n",
       "분야              8.371964\n",
       "정가          16504.048542\n",
       "쪽수            339.805778\n",
       "eBook 여부        0.598078\n",
       "제목 길이          11.994596\n",
       "베스트셀러 여부        0.519482\n",
       "dtype: float64"
      ]
     },
     "execution_count": 19,
     "metadata": {},
     "output_type": "execute_result"
    }
   ],
   "source": [
    "spring.mean()"
   ]
  },
  {
   "cell_type": "code",
   "execution_count": 20,
   "metadata": {
    "scrolled": true
   },
   "outputs": [
    {
     "data": {
      "text/plain": [
       "부제목         0\n",
       "분야          0\n",
       "정가          0\n",
       "쪽수          0\n",
       "eBook 여부    0\n",
       "제목 길이       0\n",
       "베스트셀러 여부    0\n",
       "dtype: int64"
      ]
     },
     "execution_count": 20,
     "metadata": {},
     "output_type": "execute_result"
    }
   ],
   "source": [
    "spring.isnull().sum()"
   ]
  },
  {
   "cell_type": "markdown",
   "metadata": {},
   "source": [
    "## 로지스틱 회귀분석"
   ]
  },
  {
   "cell_type": "code",
   "execution_count": 21,
   "metadata": {},
   "outputs": [],
   "source": [
    "import numpy as np\n",
    "from sklearn import datasets\n",
    "from sklearn.model_selection import train_test_split"
   ]
  },
  {
   "cell_type": "code",
   "execution_count": 22,
   "metadata": {},
   "outputs": [],
   "source": [
    "x_data = spring[['부제목', '쪽수', 'eBook 여부', '제목 길이','정가']] \n",
    "#분야, 평점, 가격은 str인데 . 때문에 int나 float으로 형변환 안 되는 듯함 해결해야 됨\n",
    "y_data = spring['베스트셀러 여부']\n",
    "x_train, x_test, y_train, y_test = train_test_split(x_data, y_data, test_size=0.2, random_state=0)"
   ]
  },
  {
   "cell_type": "code",
   "execution_count": 23,
   "metadata": {},
   "outputs": [],
   "source": [
    "from sklearn.preprocessing import StandardScaler\n",
    "scaler = StandardScaler()\n",
    "xs_train = scaler.fit_transform(x_train)"
   ]
  },
  {
   "cell_type": "code",
   "execution_count": 24,
   "metadata": {},
   "outputs": [
    {
     "data": {
      "text/html": [
       "<div>\n",
       "<style scoped>\n",
       "    .dataframe tbody tr th:only-of-type {\n",
       "        vertical-align: middle;\n",
       "    }\n",
       "\n",
       "    .dataframe tbody tr th {\n",
       "        vertical-align: top;\n",
       "    }\n",
       "\n",
       "    .dataframe thead th {\n",
       "        text-align: right;\n",
       "    }\n",
       "</style>\n",
       "<table border=\"1\" class=\"dataframe\">\n",
       "  <thead>\n",
       "    <tr style=\"text-align: right;\">\n",
       "      <th></th>\n",
       "      <th>부제목</th>\n",
       "      <th>쪽수</th>\n",
       "      <th>eBook 여부</th>\n",
       "      <th>제목 길이</th>\n",
       "      <th>정가</th>\n",
       "    </tr>\n",
       "  </thead>\n",
       "  <tbody>\n",
       "    <tr>\n",
       "      <th>0</th>\n",
       "      <td>1</td>\n",
       "      <td>308</td>\n",
       "      <td>1</td>\n",
       "      <td>6</td>\n",
       "      <td>13800.0</td>\n",
       "    </tr>\n",
       "    <tr>\n",
       "      <th>1</th>\n",
       "      <td>1</td>\n",
       "      <td>336</td>\n",
       "      <td>1</td>\n",
       "      <td>4</td>\n",
       "      <td>13800.0</td>\n",
       "    </tr>\n",
       "    <tr>\n",
       "      <th>2</th>\n",
       "      <td>1</td>\n",
       "      <td>192</td>\n",
       "      <td>1</td>\n",
       "      <td>8</td>\n",
       "      <td>13000.0</td>\n",
       "    </tr>\n",
       "    <tr>\n",
       "      <th>3</th>\n",
       "      <td>1</td>\n",
       "      <td>232</td>\n",
       "      <td>1</td>\n",
       "      <td>5</td>\n",
       "      <td>14500.0</td>\n",
       "    </tr>\n",
       "    <tr>\n",
       "      <th>4</th>\n",
       "      <td>1</td>\n",
       "      <td>272</td>\n",
       "      <td>1</td>\n",
       "      <td>7</td>\n",
       "      <td>13000.0</td>\n",
       "    </tr>\n",
       "  </tbody>\n",
       "</table>\n",
       "</div>"
      ],
      "text/plain": [
       "  부제목   쪽수  eBook 여부  제목 길이       정가\n",
       "0   1  308         1      6  13800.0\n",
       "1   1  336         1      4  13800.0\n",
       "2   1  192         1      8  13000.0\n",
       "3   1  232         1      5  14500.0\n",
       "4   1  272         1      7  13000.0"
      ]
     },
     "execution_count": 24,
     "metadata": {},
     "output_type": "execute_result"
    }
   ],
   "source": [
    "x_data.head()"
   ]
  },
  {
   "cell_type": "code",
   "execution_count": 41,
   "metadata": {},
   "outputs": [
    {
     "name": "stdout",
     "output_type": "stream",
     "text": [
      "학습용 데이터셋 정확도 : 0.63\n",
      "검증용 데이터셋 정확도 : 0.47\n"
     ]
    }
   ],
   "source": [
    "from sklearn.linear_model import LogisticRegression\n",
    "\n",
    "log = LogisticRegression() #로지스틱 회귀분석 시행\n",
    "\n",
    "log.fit(xs_train, y_train) #모델 피팅(학습시키기)\n",
    "print('학습용 데이터셋 정확도 : %.2f' % log.score(xs_train, y_train)) #정확도\n",
    "print('검증용 데이터셋 정확도 : %.2f' % log.score(x_test, y_test))"
   ]
  },
  {
   "cell_type": "code",
   "execution_count": 26,
   "metadata": {},
   "outputs": [],
   "source": [
    "import statsmodels.api as sm"
   ]
  },
  {
   "cell_type": "code",
   "execution_count": 27,
   "metadata": {},
   "outputs": [
    {
     "name": "stdout",
     "output_type": "stream",
     "text": [
      "Optimization terminated successfully.\n",
      "         Current function value: 0.661670\n",
      "         Iterations 6\n"
     ]
    }
   ],
   "source": [
    "pd.DataFrame(range(100)).dtypes\n",
    "logit = sm.Logit(y_data.astype(float), x_data.astype(float)) \n",
    "result = logit.fit()\n",
    "# est = sm.OLS (y.astype (float), X.astype (array)). fit ()"
   ]
  },
  {
   "cell_type": "code",
   "execution_count": 28,
   "metadata": {
    "scrolled": true
   },
   "outputs": [
    {
     "data": {
      "text/html": [
       "<table class=\"simpletable\">\n",
       "<tr>\n",
       "        <td>Model:</td>              <td>Logit</td>      <td>Pseudo R-squared:</td>    <td>0.044</td>   \n",
       "</tr>\n",
       "<tr>\n",
       "  <td>Dependent Variable:</td>     <td>베스트셀러 여부</td>           <td>AIC:</td>        <td>19844.2115</td> \n",
       "</tr>\n",
       "<tr>\n",
       "         <td>Date:</td>        <td>2020-07-22 14:05</td>       <td>BIC:</td>        <td>19882.2865</td> \n",
       "</tr>\n",
       "<tr>\n",
       "   <td>No. Observations:</td>        <td>14988</td>       <td>Log-Likelihood:</td>    <td>-9917.1</td>  \n",
       "</tr>\n",
       "<tr>\n",
       "       <td>Df Model:</td>              <td>4</td>            <td>LL-Null:</td>        <td>-10378.</td>  \n",
       "</tr>\n",
       "<tr>\n",
       "     <td>Df Residuals:</td>          <td>14983</td>        <td>LLR p-value:</td>    <td>5.1678e-198</td>\n",
       "</tr>\n",
       "<tr>\n",
       "      <td>Converged:</td>           <td>1.0000</td>           <td>Scale:</td>         <td>1.0000</td>   \n",
       "</tr>\n",
       "<tr>\n",
       "    <td>No. Iterations:</td>        <td>6.0000</td>              <td></td>               <td></td>      \n",
       "</tr>\n",
       "</table>\n",
       "<table class=\"simpletable\">\n",
       "<tr>\n",
       "      <td></td>      <th>Coef.</th>  <th>Std.Err.</th>     <th>z</th>     <th>P>|z|</th> <th>[0.025</th>  <th>0.975]</th> \n",
       "</tr>\n",
       "<tr>\n",
       "  <th>부제목</th>      <td>0.3393</td>   <td>0.0355</td>   <td>9.5472</td>  <td>0.0000</td> <td>0.2696</td>  <td>0.4089</td> \n",
       "</tr>\n",
       "<tr>\n",
       "  <th>쪽수</th>       <td>0.0017</td>   <td>0.0001</td>   <td>12.5985</td> <td>0.0000</td> <td>0.0014</td>  <td>0.0020</td> \n",
       "</tr>\n",
       "<tr>\n",
       "  <th>eBook 여부</th> <td>0.6461</td>   <td>0.0323</td>   <td>20.0244</td> <td>0.0000</td> <td>0.5829</td>  <td>0.7093</td> \n",
       "</tr>\n",
       "<tr>\n",
       "  <th>제목 길이</th>    <td>0.0075</td>   <td>0.0023</td>   <td>3.2432</td>  <td>0.0012</td> <td>0.0030</td>  <td>0.0121</td> \n",
       "</tr>\n",
       "<tr>\n",
       "  <th>정가</th>       <td>-0.0001</td>  <td>0.0000</td>  <td>-20.7724</td> <td>0.0000</td> <td>-0.0001</td> <td>-0.0001</td>\n",
       "</tr>\n",
       "</table>"
      ],
      "text/plain": [
       "<class 'statsmodels.iolib.summary2.Summary'>\n",
       "\"\"\"\n",
       "                          Results: Logit\n",
       "==================================================================\n",
       "Model:              Logit            Pseudo R-squared: 0.044      \n",
       "Dependent Variable: 베스트셀러 여부         AIC:              19844.2115 \n",
       "Date:               2020-07-22 14:05 BIC:              19882.2865 \n",
       "No. Observations:   14988            Log-Likelihood:   -9917.1    \n",
       "Df Model:           4                LL-Null:          -10378.    \n",
       "Df Residuals:       14983            LLR p-value:      5.1678e-198\n",
       "Converged:          1.0000           Scale:            1.0000     \n",
       "No. Iterations:     6.0000                                        \n",
       "-------------------------------------------------------------------\n",
       "               Coef.   Std.Err.     z      P>|z|    [0.025   0.975]\n",
       "-------------------------------------------------------------------\n",
       "부제목            0.3393    0.0355    9.5472  0.0000   0.2696   0.4089\n",
       "쪽수             0.0017    0.0001   12.5985  0.0000   0.0014   0.0020\n",
       "eBook 여부       0.6461    0.0323   20.0244  0.0000   0.5829   0.7093\n",
       "제목 길이          0.0075    0.0023    3.2432  0.0012   0.0030   0.0121\n",
       "정가            -0.0001    0.0000  -20.7724  0.0000  -0.0001  -0.0001\n",
       "==================================================================\n",
       "\n",
       "\"\"\""
      ]
     },
     "execution_count": 28,
     "metadata": {},
     "output_type": "execute_result"
    }
   ],
   "source": [
    "result.summary2()"
   ]
  },
  {
   "cell_type": "code",
   "execution_count": 29,
   "metadata": {},
   "outputs": [],
   "source": [
    "#유의수준 a=0.05에서, ebook여부, 제목길이는 유의미한 상관관계가 있음"
   ]
  },
  {
   "cell_type": "markdown",
   "metadata": {},
   "source": [
    "## 오즈비\n",
    "#### 1에 가까울 수록 종속변수와 관련 없는것 (다른 설명변수는 고정)"
   ]
  },
  {
   "cell_type": "code",
   "execution_count": 30,
   "metadata": {
    "scrolled": true
   },
   "outputs": [
    {
     "data": {
      "text/plain": [
       "부제목         1.403899\n",
       "쪽수          1.001715\n",
       "eBook 여부    1.908088\n",
       "제목 길이       1.007540\n",
       "정가          0.999922\n",
       "dtype: float64"
      ]
     },
     "execution_count": 30,
     "metadata": {},
     "output_type": "execute_result"
    }
   ],
   "source": [
    "np.exp(result.params)"
   ]
  },
  {
   "cell_type": "code",
   "execution_count": 31,
   "metadata": {},
   "outputs": [],
   "source": [
    "#spring = ebook여부(있을 수록) > 제목 길이 > 부제목 > 쪽수 \n",
    "#all = 부제목 > eBook여부 > 제목 길이> 쪽수 > 정가"
   ]
  },
  {
   "cell_type": "code",
   "execution_count": 32,
   "metadata": {},
   "outputs": [
    {
     "data": {
      "text/html": [
       "<div>\n",
       "<style scoped>\n",
       "    .dataframe tbody tr th:only-of-type {\n",
       "        vertical-align: middle;\n",
       "    }\n",
       "\n",
       "    .dataframe tbody tr th {\n",
       "        vertical-align: top;\n",
       "    }\n",
       "\n",
       "    .dataframe thead th {\n",
       "        text-align: right;\n",
       "    }\n",
       "</style>\n",
       "<table border=\"1\" class=\"dataframe\">\n",
       "  <thead>\n",
       "    <tr style=\"text-align: right;\">\n",
       "      <th></th>\n",
       "      <th>쪽수</th>\n",
       "      <th>eBook 여부</th>\n",
       "      <th>제목 길이</th>\n",
       "      <th>정가</th>\n",
       "    </tr>\n",
       "  </thead>\n",
       "  <tbody>\n",
       "    <tr>\n",
       "      <th>쪽수</th>\n",
       "      <td>1.000000</td>\n",
       "      <td>-0.013956</td>\n",
       "      <td>0.010531</td>\n",
       "      <td>0.193495</td>\n",
       "    </tr>\n",
       "    <tr>\n",
       "      <th>eBook 여부</th>\n",
       "      <td>-0.013956</td>\n",
       "      <td>1.000000</td>\n",
       "      <td>-0.152268</td>\n",
       "      <td>-0.073778</td>\n",
       "    </tr>\n",
       "    <tr>\n",
       "      <th>제목 길이</th>\n",
       "      <td>0.010531</td>\n",
       "      <td>-0.152268</td>\n",
       "      <td>1.000000</td>\n",
       "      <td>0.053229</td>\n",
       "    </tr>\n",
       "    <tr>\n",
       "      <th>정가</th>\n",
       "      <td>0.193495</td>\n",
       "      <td>-0.073778</td>\n",
       "      <td>0.053229</td>\n",
       "      <td>1.000000</td>\n",
       "    </tr>\n",
       "  </tbody>\n",
       "</table>\n",
       "</div>"
      ],
      "text/plain": [
       "                쪽수  eBook 여부     제목 길이        정가\n",
       "쪽수        1.000000 -0.013956  0.010531  0.193495\n",
       "eBook 여부 -0.013956  1.000000 -0.152268 -0.073778\n",
       "제목 길이     0.010531 -0.152268  1.000000  0.053229\n",
       "정가        0.193495 -0.073778  0.053229  1.000000"
      ]
     },
     "execution_count": 32,
     "metadata": {},
     "output_type": "execute_result"
    }
   ],
   "source": [
    "x_data.corr()"
   ]
  },
  {
   "cell_type": "code",
   "execution_count": 33,
   "metadata": {},
   "outputs": [
    {
     "data": {
      "text/html": [
       "<div>\n",
       "<style scoped>\n",
       "    .dataframe tbody tr th:only-of-type {\n",
       "        vertical-align: middle;\n",
       "    }\n",
       "\n",
       "    .dataframe tbody tr th {\n",
       "        vertical-align: top;\n",
       "    }\n",
       "\n",
       "    .dataframe thead th {\n",
       "        text-align: right;\n",
       "    }\n",
       "</style>\n",
       "<table border=\"1\" class=\"dataframe\">\n",
       "  <thead>\n",
       "    <tr style=\"text-align: right;\">\n",
       "      <th></th>\n",
       "      <th>부제목</th>\n",
       "      <th>분야</th>\n",
       "      <th>정가</th>\n",
       "      <th>쪽수</th>\n",
       "      <th>eBook 여부</th>\n",
       "      <th>제목 길이</th>\n",
       "      <th>베스트셀러 여부</th>\n",
       "    </tr>\n",
       "  </thead>\n",
       "  <tbody>\n",
       "    <tr>\n",
       "      <th>0</th>\n",
       "      <td>1</td>\n",
       "      <td>2</td>\n",
       "      <td>13800.0</td>\n",
       "      <td>308</td>\n",
       "      <td>1</td>\n",
       "      <td>6</td>\n",
       "      <td>1</td>\n",
       "    </tr>\n",
       "    <tr>\n",
       "      <th>1</th>\n",
       "      <td>1</td>\n",
       "      <td>1</td>\n",
       "      <td>13800.0</td>\n",
       "      <td>336</td>\n",
       "      <td>1</td>\n",
       "      <td>4</td>\n",
       "      <td>1</td>\n",
       "    </tr>\n",
       "    <tr>\n",
       "      <th>2</th>\n",
       "      <td>1</td>\n",
       "      <td>1</td>\n",
       "      <td>13000.0</td>\n",
       "      <td>192</td>\n",
       "      <td>1</td>\n",
       "      <td>8</td>\n",
       "      <td>1</td>\n",
       "    </tr>\n",
       "    <tr>\n",
       "      <th>3</th>\n",
       "      <td>1</td>\n",
       "      <td>3</td>\n",
       "      <td>14500.0</td>\n",
       "      <td>232</td>\n",
       "      <td>1</td>\n",
       "      <td>5</td>\n",
       "      <td>1</td>\n",
       "    </tr>\n",
       "    <tr>\n",
       "      <th>4</th>\n",
       "      <td>1</td>\n",
       "      <td>1</td>\n",
       "      <td>13000.0</td>\n",
       "      <td>272</td>\n",
       "      <td>1</td>\n",
       "      <td>7</td>\n",
       "      <td>1</td>\n",
       "    </tr>\n",
       "  </tbody>\n",
       "</table>\n",
       "</div>"
      ],
      "text/plain": [
       "  부제목  분야       정가   쪽수  eBook 여부  제목 길이  베스트셀러 여부\n",
       "0   1   2  13800.0  308         1      6         1\n",
       "1   1   1  13800.0  336         1      4         1\n",
       "2   1   1  13000.0  192         1      8         1\n",
       "3   1   3  14500.0  232         1      5         1\n",
       "4   1   1  13000.0  272         1      7         1"
      ]
     },
     "execution_count": 33,
     "metadata": {},
     "output_type": "execute_result"
    }
   ],
   "source": [
    "spring.head()"
   ]
  },
  {
   "cell_type": "code",
   "execution_count": 34,
   "metadata": {},
   "outputs": [
    {
     "data": {
      "text/html": [
       "<div>\n",
       "<style scoped>\n",
       "    .dataframe tbody tr th:only-of-type {\n",
       "        vertical-align: middle;\n",
       "    }\n",
       "\n",
       "    .dataframe tbody tr th {\n",
       "        vertical-align: top;\n",
       "    }\n",
       "\n",
       "    .dataframe thead th {\n",
       "        text-align: right;\n",
       "    }\n",
       "</style>\n",
       "<table border=\"1\" class=\"dataframe\">\n",
       "  <thead>\n",
       "    <tr style=\"text-align: right;\">\n",
       "      <th></th>\n",
       "      <th>분야</th>\n",
       "      <th>정가</th>\n",
       "      <th>쪽수</th>\n",
       "      <th>eBook 여부</th>\n",
       "      <th>제목 길이</th>\n",
       "    </tr>\n",
       "  </thead>\n",
       "  <tbody>\n",
       "    <tr>\n",
       "      <th>분야</th>\n",
       "      <td>1.000000</td>\n",
       "      <td>0.075906</td>\n",
       "      <td>-0.019707</td>\n",
       "      <td>-0.355268</td>\n",
       "      <td>0.214376</td>\n",
       "    </tr>\n",
       "    <tr>\n",
       "      <th>정가</th>\n",
       "      <td>0.075906</td>\n",
       "      <td>1.000000</td>\n",
       "      <td>0.193495</td>\n",
       "      <td>-0.073778</td>\n",
       "      <td>0.053229</td>\n",
       "    </tr>\n",
       "    <tr>\n",
       "      <th>쪽수</th>\n",
       "      <td>-0.019707</td>\n",
       "      <td>0.193495</td>\n",
       "      <td>1.000000</td>\n",
       "      <td>-0.013956</td>\n",
       "      <td>0.010531</td>\n",
       "    </tr>\n",
       "    <tr>\n",
       "      <th>eBook 여부</th>\n",
       "      <td>-0.355268</td>\n",
       "      <td>-0.073778</td>\n",
       "      <td>-0.013956</td>\n",
       "      <td>1.000000</td>\n",
       "      <td>-0.152268</td>\n",
       "    </tr>\n",
       "    <tr>\n",
       "      <th>제목 길이</th>\n",
       "      <td>0.214376</td>\n",
       "      <td>0.053229</td>\n",
       "      <td>0.010531</td>\n",
       "      <td>-0.152268</td>\n",
       "      <td>1.000000</td>\n",
       "    </tr>\n",
       "  </tbody>\n",
       "</table>\n",
       "</div>"
      ],
      "text/plain": [
       "                분야        정가        쪽수  eBook 여부     제목 길이\n",
       "분야        1.000000  0.075906 -0.019707 -0.355268  0.214376\n",
       "정가        0.075906  1.000000  0.193495 -0.073778  0.053229\n",
       "쪽수       -0.019707  0.193495  1.000000 -0.013956  0.010531\n",
       "eBook 여부 -0.355268 -0.073778 -0.013956  1.000000 -0.152268\n",
       "제목 길이     0.214376  0.053229  0.010531 -0.152268  1.000000"
      ]
     },
     "execution_count": 34,
     "metadata": {},
     "output_type": "execute_result"
    }
   ],
   "source": [
    "spring_x = spring[['부제목', '분야', '정가', '쪽수', 'eBook 여부', '제목 길이']]\n",
    "spring_x.corr()"
   ]
  },
  {
   "cell_type": "code",
   "execution_count": 35,
   "metadata": {},
   "outputs": [],
   "source": [
    "import matplotlib.pyplot as plt\n",
    "%matplotlib inline\n",
    "import seaborn as sns\n",
    "sns.set()\n"
   ]
  },
  {
   "cell_type": "code",
   "execution_count": 36,
   "metadata": {},
   "outputs": [],
   "source": [
    "#그나마 x끼리의 관련이 큰게 쪽수와 정가인데, 아무래도 쪽수가 많을 수록 인쇄비용이 커지니까 그런 듯! *어떻게 할 지 상의하기\n",
    "#0.4가 막 넣으면 안 좋을 만큼 영향있는 수치는 아님"
   ]
  },
  {
   "cell_type": "code",
   "execution_count": 37,
   "metadata": {},
   "outputs": [
    {
     "data": {
      "text/plain": [
       "['0',\n",
       " '1',\n",
       " '3',\n",
       " '4',\n",
       " '5',\n",
       " '6',\n",
       " '7',\n",
       " '8',\n",
       " '9',\n",
       " '10',\n",
       " '11',\n",
       " '12',\n",
       " '13',\n",
       " '14',\n",
       " '15',\n",
       " '16',\n",
       " '17',\n",
       " '19',\n",
       " '20']"
      ]
     },
     "execution_count": 37,
     "metadata": {},
     "output_type": "execute_result"
    }
   ],
   "source": [
    "num = ['0','1','3','4','5','6','7','8','9','10',\n",
    "      '11','12','13','14','15','16','17','19','20']\n",
    "num"
   ]
  },
  {
   "cell_type": "code",
   "execution_count": 38,
   "metadata": {},
   "outputs": [],
   "source": [
    "import matplotlib.pyplot as plt\n",
    "import numpy as np\n",
    "from matplotlib import font_manager, rc\n",
    "from matplotlib import style\n",
    "\n",
    "font_name = font_manager.FontProperties(fname=\"c:/Windows/Fonts/malgun.ttf\").get_name()\n",
    "rc('font', family=font_name)\n",
    "style.use('ggplot')"
   ]
  },
  {
   "cell_type": "code",
   "execution_count": 39,
   "metadata": {
    "scrolled": true
   },
   "outputs": [
    {
     "ename": "ValueError",
     "evalue": "'label' must be of length 'x'",
     "output_type": "error",
     "traceback": [
      "\u001b[1;31m---------------------------------------------------------------------------\u001b[0m",
      "\u001b[1;31mValueError\u001b[0m                                Traceback (most recent call last)",
      "\u001b[1;32m<ipython-input-39-20ca7599e63d>\u001b[0m in \u001b[0;36m<module>\u001b[1;34m\u001b[0m\n\u001b[1;32m----> 1\u001b[1;33m \u001b[0mplt\u001b[0m\u001b[1;33m.\u001b[0m\u001b[0mpie\u001b[0m\u001b[1;33m(\u001b[0m\u001b[0mdata_l\u001b[0m\u001b[1;33m,\u001b[0m \u001b[0mlabels\u001b[0m\u001b[1;33m=\u001b[0m\u001b[0mnum\u001b[0m\u001b[1;33m,\u001b[0m \u001b[0mshadow\u001b[0m\u001b[1;33m=\u001b[0m\u001b[1;32mTrue\u001b[0m\u001b[1;33m,\u001b[0m \u001b[0mstartangle\u001b[0m\u001b[1;33m=\u001b[0m\u001b[1;36m90\u001b[0m\u001b[1;33m)\u001b[0m\u001b[1;33m\u001b[0m\u001b[1;33m\u001b[0m\u001b[0m\n\u001b[0m\u001b[0;32m      2\u001b[0m \u001b[0mplt\u001b[0m\u001b[1;33m.\u001b[0m\u001b[0mlegend\u001b[0m\u001b[1;33m(\u001b[0m\u001b[0mcategory\u001b[0m\u001b[1;33m,\u001b[0m \u001b[0mloc\u001b[0m\u001b[1;33m=\u001b[0m\u001b[1;34m'upper right'\u001b[0m\u001b[1;33m,\u001b[0m \u001b[0mbbox_to_anchor\u001b[0m\u001b[1;33m=\u001b[0m\u001b[1;33m(\u001b[0m\u001b[1;36m3.0\u001b[0m\u001b[1;33m,\u001b[0m \u001b[1;36m1.3\u001b[0m\u001b[1;33m)\u001b[0m\u001b[1;33m)\u001b[0m\u001b[1;33m\u001b[0m\u001b[1;33m\u001b[0m\u001b[0m\n\u001b[0;32m      3\u001b[0m \u001b[0mplt\u001b[0m\u001b[1;33m.\u001b[0m\u001b[0mshow\u001b[0m\u001b[1;33m(\u001b[0m\u001b[1;33m)\u001b[0m\u001b[1;33m\u001b[0m\u001b[1;33m\u001b[0m\u001b[0m\n",
      "\u001b[1;32m~\\anaconda3\\lib\\site-packages\\matplotlib\\pyplot.py\u001b[0m in \u001b[0;36mpie\u001b[1;34m(x, explode, labels, colors, autopct, pctdistance, shadow, labeldistance, startangle, radius, counterclock, wedgeprops, textprops, center, frame, rotatelabels, data)\u001b[0m\n\u001b[0;32m   2786\u001b[0m         \u001b[0mwedgeprops\u001b[0m\u001b[1;33m=\u001b[0m\u001b[0mwedgeprops\u001b[0m\u001b[1;33m,\u001b[0m \u001b[0mtextprops\u001b[0m\u001b[1;33m=\u001b[0m\u001b[0mtextprops\u001b[0m\u001b[1;33m,\u001b[0m \u001b[0mcenter\u001b[0m\u001b[1;33m=\u001b[0m\u001b[0mcenter\u001b[0m\u001b[1;33m,\u001b[0m\u001b[1;33m\u001b[0m\u001b[1;33m\u001b[0m\u001b[0m\n\u001b[0;32m   2787\u001b[0m         frame=frame, rotatelabels=rotatelabels, **({\"data\": data} if\n\u001b[1;32m-> 2788\u001b[1;33m         data is not None else {}))\n\u001b[0m\u001b[0;32m   2789\u001b[0m \u001b[1;33m\u001b[0m\u001b[0m\n\u001b[0;32m   2790\u001b[0m \u001b[1;33m\u001b[0m\u001b[0m\n",
      "\u001b[1;32m~\\anaconda3\\lib\\site-packages\\matplotlib\\__init__.py\u001b[0m in \u001b[0;36minner\u001b[1;34m(ax, data, *args, **kwargs)\u001b[0m\n\u001b[0;32m   1597\u001b[0m     \u001b[1;32mdef\u001b[0m \u001b[0minner\u001b[0m\u001b[1;33m(\u001b[0m\u001b[0max\u001b[0m\u001b[1;33m,\u001b[0m \u001b[1;33m*\u001b[0m\u001b[0margs\u001b[0m\u001b[1;33m,\u001b[0m \u001b[0mdata\u001b[0m\u001b[1;33m=\u001b[0m\u001b[1;32mNone\u001b[0m\u001b[1;33m,\u001b[0m \u001b[1;33m**\u001b[0m\u001b[0mkwargs\u001b[0m\u001b[1;33m)\u001b[0m\u001b[1;33m:\u001b[0m\u001b[1;33m\u001b[0m\u001b[1;33m\u001b[0m\u001b[0m\n\u001b[0;32m   1598\u001b[0m         \u001b[1;32mif\u001b[0m \u001b[0mdata\u001b[0m \u001b[1;32mis\u001b[0m \u001b[1;32mNone\u001b[0m\u001b[1;33m:\u001b[0m\u001b[1;33m\u001b[0m\u001b[1;33m\u001b[0m\u001b[0m\n\u001b[1;32m-> 1599\u001b[1;33m             \u001b[1;32mreturn\u001b[0m \u001b[0mfunc\u001b[0m\u001b[1;33m(\u001b[0m\u001b[0max\u001b[0m\u001b[1;33m,\u001b[0m \u001b[1;33m*\u001b[0m\u001b[0mmap\u001b[0m\u001b[1;33m(\u001b[0m\u001b[0msanitize_sequence\u001b[0m\u001b[1;33m,\u001b[0m \u001b[0margs\u001b[0m\u001b[1;33m)\u001b[0m\u001b[1;33m,\u001b[0m \u001b[1;33m**\u001b[0m\u001b[0mkwargs\u001b[0m\u001b[1;33m)\u001b[0m\u001b[1;33m\u001b[0m\u001b[1;33m\u001b[0m\u001b[0m\n\u001b[0m\u001b[0;32m   1600\u001b[0m \u001b[1;33m\u001b[0m\u001b[0m\n\u001b[0;32m   1601\u001b[0m         \u001b[0mbound\u001b[0m \u001b[1;33m=\u001b[0m \u001b[0mnew_sig\u001b[0m\u001b[1;33m.\u001b[0m\u001b[0mbind\u001b[0m\u001b[1;33m(\u001b[0m\u001b[0max\u001b[0m\u001b[1;33m,\u001b[0m \u001b[1;33m*\u001b[0m\u001b[0margs\u001b[0m\u001b[1;33m,\u001b[0m \u001b[1;33m**\u001b[0m\u001b[0mkwargs\u001b[0m\u001b[1;33m)\u001b[0m\u001b[1;33m\u001b[0m\u001b[1;33m\u001b[0m\u001b[0m\n",
      "\u001b[1;32m~\\anaconda3\\lib\\site-packages\\matplotlib\\axes\\_axes.py\u001b[0m in \u001b[0;36mpie\u001b[1;34m(self, x, explode, labels, colors, autopct, pctdistance, shadow, labeldistance, startangle, radius, counterclock, wedgeprops, textprops, center, frame, rotatelabels)\u001b[0m\n\u001b[0;32m   2980\u001b[0m             \u001b[0mexplode\u001b[0m \u001b[1;33m=\u001b[0m \u001b[1;33m[\u001b[0m\u001b[1;36m0\u001b[0m\u001b[1;33m]\u001b[0m \u001b[1;33m*\u001b[0m \u001b[0mlen\u001b[0m\u001b[1;33m(\u001b[0m\u001b[0mx\u001b[0m\u001b[1;33m)\u001b[0m\u001b[1;33m\u001b[0m\u001b[1;33m\u001b[0m\u001b[0m\n\u001b[0;32m   2981\u001b[0m         \u001b[1;32mif\u001b[0m \u001b[0mlen\u001b[0m\u001b[1;33m(\u001b[0m\u001b[0mx\u001b[0m\u001b[1;33m)\u001b[0m \u001b[1;33m!=\u001b[0m \u001b[0mlen\u001b[0m\u001b[1;33m(\u001b[0m\u001b[0mlabels\u001b[0m\u001b[1;33m)\u001b[0m\u001b[1;33m:\u001b[0m\u001b[1;33m\u001b[0m\u001b[1;33m\u001b[0m\u001b[0m\n\u001b[1;32m-> 2982\u001b[1;33m             \u001b[1;32mraise\u001b[0m \u001b[0mValueError\u001b[0m\u001b[1;33m(\u001b[0m\u001b[1;34m\"'label' must be of length 'x'\"\u001b[0m\u001b[1;33m)\u001b[0m\u001b[1;33m\u001b[0m\u001b[1;33m\u001b[0m\u001b[0m\n\u001b[0m\u001b[0;32m   2983\u001b[0m         \u001b[1;32mif\u001b[0m \u001b[0mlen\u001b[0m\u001b[1;33m(\u001b[0m\u001b[0mx\u001b[0m\u001b[1;33m)\u001b[0m \u001b[1;33m!=\u001b[0m \u001b[0mlen\u001b[0m\u001b[1;33m(\u001b[0m\u001b[0mexplode\u001b[0m\u001b[1;33m)\u001b[0m\u001b[1;33m:\u001b[0m\u001b[1;33m\u001b[0m\u001b[1;33m\u001b[0m\u001b[0m\n\u001b[0;32m   2984\u001b[0m             \u001b[1;32mraise\u001b[0m \u001b[0mValueError\u001b[0m\u001b[1;33m(\u001b[0m\u001b[1;34m\"'explode' must be of length 'x'\"\u001b[0m\u001b[1;33m)\u001b[0m\u001b[1;33m\u001b[0m\u001b[1;33m\u001b[0m\u001b[0m\n",
      "\u001b[1;31mValueError\u001b[0m: 'label' must be of length 'x'"
     ]
    },
    {
     "data": {
      "image/png": "[encoded data removed]",
      "text/plain": [
       "<Figure size 432x288 with 1 Axes>"
      ]
     },
     "metadata": {},
     "output_type": "display_data"
    }
   ],
   "source": [
    "plt.pie(data_l, labels=num, shadow=True, startangle=90)\n",
    "plt.legend(category, loc='upper right', bbox_to_anchor=(3.0, 1.3))\n",
    "plt.show()"
   ]
  },
  {
   "cell_type": "code",
   "execution_count": null,
   "metadata": {},
   "outputs": [],
   "source": [
    "\n"
   ]
  },
  {
   "cell_type": "code",
   "execution_count": null,
   "metadata": {},
   "outputs": [],
   "source": []
  }
 ],
 "metadata": {
  "kernelspec": {
   "display_name": "Python 3",
   "language": "python",
   "name": "python3"
  },
  "language_info": {
   "codemirror_mode": {
    "name": "ipython",
    "version": 3
   },
   "file_extension": ".py",
   "mimetype": "text/x-python",
   "name": "python",
   "nbconvert_exporter": "python",
   "pygments_lexer": "ipython3",
   "version": "3.7.6"
  }
 },
 "nbformat": 4,
 "nbformat_minor": 4
}
